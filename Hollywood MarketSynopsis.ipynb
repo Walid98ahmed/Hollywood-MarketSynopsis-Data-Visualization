{
 "cells": [
  {
   "cell_type": "code",
   "execution_count": 32,
   "id": "d7dc3c67",
   "metadata": {},
   "outputs": [],
   "source": [
    "import numpy as np \n",
    "import pandas as pd \n",
    "import seaborn as sns \n",
    "import matplotlib.pyplot as plt \n"
   ]
  },
  {
   "cell_type": "code",
   "execution_count": 33,
   "id": "cce965b8",
   "metadata": {},
   "outputs": [],
   "source": [
    "AnnualTicketSales = pd.read_csv(r\"C:\\Users\\Wello\\Downloads\\AnnualTicketSales.csv\")\n",
    "HighestGrossers = pd.read_csv(r\"C:\\Users\\Wello\\Downloads\\HighestGrossers.csv\")\n",
    "PopularCreativeTypes = pd.read_csv(r\"C:\\Users\\Wello\\Downloads\\PopularCreativeTypes.csv\")\n",
    "TopDistributors = pd.read_csv(r\"C:\\Users\\Wello\\Downloads\\TopDistributors.csv\")\n",
    "TopGenres = pd.read_csv(r\"C:\\Users\\Wello\\Downloads\\TopGenres.csv\")\n",
    "TopGrossingRatings = pd.read_csv(r\"C:\\Users\\Wello\\Downloads\\TopGrossingRatings.csv\")\n",
    "TopGrossingRatings = pd.read_csv(r\"C:\\Users\\Wello\\Downloads\\TopGrossingSources.csv\")\n",
    "TopProductionMethods = pd.read_csv(r\"C:\\Users\\Wello\\Downloads\\TopProductionMethods.csv\")\n",
    "WideReleasesCount = pd.read_csv(r\"C:\\Users\\Wello\\Downloads\\WideReleasesCount.csv\")\n"
   ]
  },
  {
   "cell_type": "code",
   "execution_count": 34,
   "id": "cf5b2b99",
   "metadata": {},
   "outputs": [
    {
     "data": {
      "text/html": [
       "<div>\n",
       "<style scoped>\n",
       "    .dataframe tbody tr th:only-of-type {\n",
       "        vertical-align: middle;\n",
       "    }\n",
       "\n",
       "    .dataframe tbody tr th {\n",
       "        vertical-align: top;\n",
       "    }\n",
       "\n",
       "    .dataframe thead th {\n",
       "        text-align: right;\n",
       "    }\n",
       "</style>\n",
       "<table border=\"1\" class=\"dataframe\">\n",
       "  <thead>\n",
       "    <tr style=\"text-align: right;\">\n",
       "      <th></th>\n",
       "      <th>YEAR</th>\n",
       "      <th>TICKETS SOLD</th>\n",
       "      <th>TOTAL BOX OFFICE</th>\n",
       "      <th>TOTAL INFLATION ADJUSTED BOX OFFICE</th>\n",
       "      <th>AVERAGE TICKET PRICE</th>\n",
       "      <th>Unnamed: 5</th>\n",
       "    </tr>\n",
       "  </thead>\n",
       "  <tbody>\n",
       "    <tr>\n",
       "      <th>0</th>\n",
       "      <td>2021</td>\n",
       "      <td>42,37,74,881</td>\n",
       "      <td>$3,881,777,912</td>\n",
       "      <td>$3,881,777,912</td>\n",
       "      <td>$9.16</td>\n",
       "      <td>NaN</td>\n",
       "    </tr>\n",
       "    <tr>\n",
       "      <th>1</th>\n",
       "      <td>2020</td>\n",
       "      <td>22,36,38,958</td>\n",
       "      <td>$2,048,534,616</td>\n",
       "      <td>$2,048,534,616</td>\n",
       "      <td>$9.16</td>\n",
       "      <td>NaN</td>\n",
       "    </tr>\n",
       "    <tr>\n",
       "      <th>2</th>\n",
       "      <td>2019</td>\n",
       "      <td>1,22,85,41,629</td>\n",
       "      <td>$11,253,443,955</td>\n",
       "      <td>$11,253,444,050</td>\n",
       "      <td>$9.16</td>\n",
       "      <td>NaN</td>\n",
       "    </tr>\n",
       "    <tr>\n",
       "      <th>3</th>\n",
       "      <td>2018</td>\n",
       "      <td>1,31,15,36,128</td>\n",
       "      <td>$11,948,096,650</td>\n",
       "      <td>$12,013,670,952</td>\n",
       "      <td>$9.11</td>\n",
       "      <td>NaN</td>\n",
       "    </tr>\n",
       "    <tr>\n",
       "      <th>4</th>\n",
       "      <td>2017</td>\n",
       "      <td>1,22,56,39,761</td>\n",
       "      <td>$10,993,991,460</td>\n",
       "      <td>$11,226,860,216</td>\n",
       "      <td>$8.97</td>\n",
       "      <td>NaN</td>\n",
       "    </tr>\n",
       "  </tbody>\n",
       "</table>\n",
       "</div>"
      ],
      "text/plain": [
       "   YEAR    TICKETS SOLD TOTAL BOX OFFICE TOTAL INFLATION ADJUSTED BOX OFFICE  \\\n",
       "0  2021    42,37,74,881   $3,881,777,912                      $3,881,777,912   \n",
       "1  2020    22,36,38,958   $2,048,534,616                      $2,048,534,616   \n",
       "2  2019  1,22,85,41,629  $11,253,443,955                     $11,253,444,050   \n",
       "3  2018  1,31,15,36,128  $11,948,096,650                     $12,013,670,952   \n",
       "4  2017  1,22,56,39,761  $10,993,991,460                     $11,226,860,216   \n",
       "\n",
       "  AVERAGE TICKET PRICE  Unnamed: 5  \n",
       "0                $9.16         NaN  \n",
       "1                $9.16         NaN  \n",
       "2                $9.16         NaN  \n",
       "3                $9.11         NaN  \n",
       "4                $8.97         NaN  "
      ]
     },
     "execution_count": 34,
     "metadata": {},
     "output_type": "execute_result"
    }
   ],
   "source": [
    "AnnualTicketSales.head()"
   ]
  },
  {
   "cell_type": "code",
   "execution_count": 35,
   "id": "aa6fdf24",
   "metadata": {},
   "outputs": [
    {
     "name": "stderr",
     "output_type": "stream",
     "text": [
      "<ipython-input-35-6d3974addee2>:2: FutureWarning: The default value of regex will change from True to False in a future version. In addition, single character regular expressions will*not* be treated as literal strings when regex=True.\n",
      "  AnnualTicketSales['TOTAL BOX OFFICE'] = AnnualTicketSales['TOTAL BOX OFFICE'].str.replace('$', '')\n",
      "<ipython-input-35-6d3974addee2>:5: FutureWarning: The default value of regex will change from True to False in a future version. In addition, single character regular expressions will*not* be treated as literal strings when regex=True.\n",
      "  AnnualTicketSales['TICKETS SOLD'] = AnnualTicketSales['TICKETS SOLD'].str.replace('$', '')\n",
      "<ipython-input-35-6d3974addee2>:8: FutureWarning: The default value of regex will change from True to False in a future version. In addition, single character regular expressions will*not* be treated as literal strings when regex=True.\n",
      "  AnnualTicketSales['TOTAL INFLATION ADJUSTED BOX OFFICE'] = AnnualTicketSales['TOTAL INFLATION ADJUSTED BOX OFFICE'].str.replace('$', '')\n",
      "<ipython-input-35-6d3974addee2>:10: FutureWarning: The default value of regex will change from True to False in a future version. In addition, single character regular expressions will*not* be treated as literal strings when regex=True.\n",
      "  AnnualTicketSales['AVERAGE TICKET PRICE'] = AnnualTicketSales['AVERAGE TICKET PRICE'].str.replace('$', '')\n"
     ]
    }
   ],
   "source": [
    "AnnualTicketSales['TOTAL BOX OFFICE'] = AnnualTicketSales['TOTAL BOX OFFICE'].str.replace(',', '')\n",
    "AnnualTicketSales['TOTAL BOX OFFICE'] = AnnualTicketSales['TOTAL BOX OFFICE'].str.replace('$', '')\n",
    "AnnualTicketSales['TICKETS SOLD'] = AnnualTicketSales['TICKETS SOLD'].str.replace(',', '')\n",
    "\n",
    "AnnualTicketSales['TICKETS SOLD'] = AnnualTicketSales['TICKETS SOLD'].str.replace('$', '')\n",
    "\n",
    "AnnualTicketSales['TOTAL INFLATION ADJUSTED BOX OFFICE'] = AnnualTicketSales['TOTAL INFLATION ADJUSTED BOX OFFICE'].str.replace(',', '')\n",
    "AnnualTicketSales['TOTAL INFLATION ADJUSTED BOX OFFICE'] = AnnualTicketSales['TOTAL INFLATION ADJUSTED BOX OFFICE'].str.replace('$', '')\n",
    "\n",
    "AnnualTicketSales['AVERAGE TICKET PRICE'] = AnnualTicketSales['AVERAGE TICKET PRICE'].str.replace('$', '')\n",
    "\n",
    "AnnualTicketSales.drop('Unnamed: 5', axis = 1 , inplace = True)"
   ]
  },
  {
   "cell_type": "code",
   "execution_count": 36,
   "id": "9e0198a4",
   "metadata": {},
   "outputs": [
    {
     "data": {
      "text/html": [
       "<div>\n",
       "<style scoped>\n",
       "    .dataframe tbody tr th:only-of-type {\n",
       "        vertical-align: middle;\n",
       "    }\n",
       "\n",
       "    .dataframe tbody tr th {\n",
       "        vertical-align: top;\n",
       "    }\n",
       "\n",
       "    .dataframe thead th {\n",
       "        text-align: right;\n",
       "    }\n",
       "</style>\n",
       "<table border=\"1\" class=\"dataframe\">\n",
       "  <thead>\n",
       "    <tr style=\"text-align: right;\">\n",
       "      <th></th>\n",
       "      <th>YEAR</th>\n",
       "      <th>TICKETS SOLD</th>\n",
       "      <th>TOTAL BOX OFFICE</th>\n",
       "      <th>TOTAL INFLATION ADJUSTED BOX OFFICE</th>\n",
       "      <th>AVERAGE TICKET PRICE</th>\n",
       "    </tr>\n",
       "  </thead>\n",
       "  <tbody>\n",
       "    <tr>\n",
       "      <th>0</th>\n",
       "      <td>2021</td>\n",
       "      <td>423774881</td>\n",
       "      <td>3881777912</td>\n",
       "      <td>3881777912</td>\n",
       "      <td>9.16</td>\n",
       "    </tr>\n",
       "    <tr>\n",
       "      <th>1</th>\n",
       "      <td>2020</td>\n",
       "      <td>223638958</td>\n",
       "      <td>2048534616</td>\n",
       "      <td>2048534616</td>\n",
       "      <td>9.16</td>\n",
       "    </tr>\n",
       "    <tr>\n",
       "      <th>2</th>\n",
       "      <td>2019</td>\n",
       "      <td>1228541629</td>\n",
       "      <td>11253443955</td>\n",
       "      <td>11253444050</td>\n",
       "      <td>9.16</td>\n",
       "    </tr>\n",
       "    <tr>\n",
       "      <th>3</th>\n",
       "      <td>2018</td>\n",
       "      <td>1311536128</td>\n",
       "      <td>11948096650</td>\n",
       "      <td>12013670952</td>\n",
       "      <td>9.11</td>\n",
       "    </tr>\n",
       "    <tr>\n",
       "      <th>4</th>\n",
       "      <td>2017</td>\n",
       "      <td>1225639761</td>\n",
       "      <td>10993991460</td>\n",
       "      <td>11226860216</td>\n",
       "      <td>8.97</td>\n",
       "    </tr>\n",
       "  </tbody>\n",
       "</table>\n",
       "</div>"
      ],
      "text/plain": [
       "   YEAR TICKETS SOLD TOTAL BOX OFFICE TOTAL INFLATION ADJUSTED BOX OFFICE  \\\n",
       "0  2021    423774881       3881777912                          3881777912   \n",
       "1  2020    223638958       2048534616                          2048534616   \n",
       "2  2019   1228541629      11253443955                         11253444050   \n",
       "3  2018   1311536128      11948096650                         12013670952   \n",
       "4  2017   1225639761      10993991460                         11226860216   \n",
       "\n",
       "  AVERAGE TICKET PRICE  \n",
       "0                 9.16  \n",
       "1                 9.16  \n",
       "2                 9.16  \n",
       "3                 9.11  \n",
       "4                 8.97  "
      ]
     },
     "execution_count": 36,
     "metadata": {},
     "output_type": "execute_result"
    }
   ],
   "source": [
    "AnnualTicketSales.head()"
   ]
  },
  {
   "cell_type": "code",
   "execution_count": 37,
   "id": "cac3cef7",
   "metadata": {},
   "outputs": [
    {
     "name": "stdout",
     "output_type": "stream",
     "text": [
      "<class 'pandas.core.frame.DataFrame'>\n",
      "RangeIndex: 27 entries, 0 to 26\n",
      "Data columns (total 5 columns):\n",
      " #   Column                               Non-Null Count  Dtype \n",
      "---  ------                               --------------  ----- \n",
      " 0   YEAR                                 27 non-null     int64 \n",
      " 1   TICKETS SOLD                         27 non-null     object\n",
      " 2   TOTAL BOX OFFICE                     27 non-null     object\n",
      " 3   TOTAL INFLATION ADJUSTED BOX OFFICE  27 non-null     object\n",
      " 4   AVERAGE TICKET PRICE                 27 non-null     object\n",
      "dtypes: int64(1), object(4)\n",
      "memory usage: 1.2+ KB\n"
     ]
    }
   ],
   "source": [
    "AnnualTicketSales.info()"
   ]
  },
  {
   "cell_type": "code",
   "execution_count": 44,
   "id": "d99d3743",
   "metadata": {},
   "outputs": [],
   "source": [
    "AnnualTicketSales = AnnualTicketSales.astype({\"TOTAL BOX OFFICE\":'int64','TICKETS SOLD':'int64','TOTAL INFLATION ADJUSTED BOX OFFICE':'int64'})\n"
   ]
  },
  {
   "cell_type": "code",
   "execution_count": 45,
   "id": "aac743c1",
   "metadata": {},
   "outputs": [
    {
     "name": "stdout",
     "output_type": "stream",
     "text": [
      "<class 'pandas.core.frame.DataFrame'>\n",
      "RangeIndex: 27 entries, 0 to 26\n",
      "Data columns (total 5 columns):\n",
      " #   Column                               Non-Null Count  Dtype \n",
      "---  ------                               --------------  ----- \n",
      " 0   YEAR                                 27 non-null     int64 \n",
      " 1   TICKETS SOLD                         27 non-null     int64 \n",
      " 2   TOTAL BOX OFFICE                     27 non-null     int64 \n",
      " 3   TOTAL INFLATION ADJUSTED BOX OFFICE  27 non-null     int64 \n",
      " 4   AVERAGE TICKET PRICE                 27 non-null     object\n",
      "dtypes: int64(4), object(1)\n",
      "memory usage: 1.2+ KB\n"
     ]
    }
   ],
   "source": [
    "AnnualTicketSales.info()"
   ]
  },
  {
   "cell_type": "code",
   "execution_count": 46,
   "id": "dccc308f",
   "metadata": {},
   "outputs": [
    {
     "data": {
      "text/plain": [
       "YEAR                                   0\n",
       "TICKETS SOLD                           0\n",
       "TOTAL BOX OFFICE                       0\n",
       "TOTAL INFLATION ADJUSTED BOX OFFICE    0\n",
       "AVERAGE TICKET PRICE                   0\n",
       "dtype: int64"
      ]
     },
     "execution_count": 46,
     "metadata": {},
     "output_type": "execute_result"
    }
   ],
   "source": [
    "AnnualTicketSales.isnull().sum()"
   ]
  },
  {
   "cell_type": "code",
   "execution_count": 52,
   "id": "f207fa6b",
   "metadata": {},
   "outputs": [
    {
     "data": {
      "image/png": "[encoded data removed]",
      "text/plain": [
       "<Figure size 1296x432 with 1 Axes>"
      ]
     },
     "metadata": {
      "needs_background": "light"
     },
     "output_type": "display_data"
    }
   ],
   "source": [
    "ax = sns.catplot(y=\"TICKETS SOLD\", x=\"YEAR\", kind=\"bar\", data=AnnualTicketSales, height=6, aspect=3)\n",
    "plt.ylabel(\"TICKETS SOLD in billion\")\n",
    "plt.grid(True)"
   ]
  },
  {
   "cell_type": "code",
   "execution_count": 49,
   "id": "5e850121",
   "metadata": {},
   "outputs": [
    {
     "data": {
      "image/png": "[encoded data removed]",
      "text/plain": [
       "<Figure size 1296x432 with 1 Axes>"
      ]
     },
     "metadata": {
      "needs_background": "light"
     },
     "output_type": "display_data"
    }
   ],
   "source": [
    "ax = sns.catplot(y=\"TOTAL BOX OFFICE\", x=\"YEAR\", kind=\"bar\", data=AnnualTicketSales, height=6, aspect=3)\n",
    "plt.ylabel(\"TOTAL BOX OFFICE in\")\n",
    "plt.grid(True)"
   ]
  },
  {
   "cell_type": "code",
   "execution_count": 53,
   "id": "40c5b78b",
   "metadata": {},
   "outputs": [
    {
     "data": {
      "text/html": [
       "<div>\n",
       "<style scoped>\n",
       "    .dataframe tbody tr th:only-of-type {\n",
       "        vertical-align: middle;\n",
       "    }\n",
       "\n",
       "    .dataframe tbody tr th {\n",
       "        vertical-align: top;\n",
       "    }\n",
       "\n",
       "    .dataframe thead th {\n",
       "        text-align: right;\n",
       "    }\n",
       "</style>\n",
       "<table border=\"1\" class=\"dataframe\">\n",
       "  <thead>\n",
       "    <tr style=\"text-align: right;\">\n",
       "      <th></th>\n",
       "      <th>YEAR</th>\n",
       "      <th>MOVIE</th>\n",
       "      <th>GENRE</th>\n",
       "      <th>MPAA RATING</th>\n",
       "      <th>DISTRIBUTOR</th>\n",
       "      <th>TOTAL FOR YEAR</th>\n",
       "      <th>TOTAL IN 2019 DOLLARS</th>\n",
       "      <th>TICKETS SOLD</th>\n",
       "    </tr>\n",
       "  </thead>\n",
       "  <tbody>\n",
       "    <tr>\n",
       "      <th>0</th>\n",
       "      <td>1995</td>\n",
       "      <td>Batman Forever</td>\n",
       "      <td>Drama</td>\n",
       "      <td>PG-13</td>\n",
       "      <td>Warner Bros.</td>\n",
       "      <td>$184,031,112</td>\n",
       "      <td>$387,522,978</td>\n",
       "      <td>4,23,06,002</td>\n",
       "    </tr>\n",
       "    <tr>\n",
       "      <th>1</th>\n",
       "      <td>1996</td>\n",
       "      <td>Independence Day</td>\n",
       "      <td>Adventure</td>\n",
       "      <td>PG-13</td>\n",
       "      <td>20th Century Fox</td>\n",
       "      <td>$306,169,255</td>\n",
       "      <td>$634,504,608</td>\n",
       "      <td>6,92,69,062</td>\n",
       "    </tr>\n",
       "    <tr>\n",
       "      <th>2</th>\n",
       "      <td>1997</td>\n",
       "      <td>Men in Black</td>\n",
       "      <td>Adventure</td>\n",
       "      <td>PG-13</td>\n",
       "      <td>Sony Pictures</td>\n",
       "      <td>$250,650,052</td>\n",
       "      <td>$500,207,943</td>\n",
       "      <td>5,46,07,854</td>\n",
       "    </tr>\n",
       "    <tr>\n",
       "      <th>3</th>\n",
       "      <td>1998</td>\n",
       "      <td>Titanic</td>\n",
       "      <td>Adventure</td>\n",
       "      <td>PG-13</td>\n",
       "      <td>Paramount Pictures</td>\n",
       "      <td>$443,319,081</td>\n",
       "      <td>$865,842,808</td>\n",
       "      <td>9,45,24,324</td>\n",
       "    </tr>\n",
       "    <tr>\n",
       "      <th>4</th>\n",
       "      <td>1999</td>\n",
       "      <td>Star Wars Ep. I: The Phantom Menace</td>\n",
       "      <td>Adventure</td>\n",
       "      <td>PG</td>\n",
       "      <td>20th Century Fox</td>\n",
       "      <td>$430,443,350</td>\n",
       "      <td>$776,153,749</td>\n",
       "      <td>8,47,32,942</td>\n",
       "    </tr>\n",
       "  </tbody>\n",
       "</table>\n",
       "</div>"
      ],
      "text/plain": [
       "   YEAR                                MOVIE      GENRE MPAA RATING  \\\n",
       "0  1995                       Batman Forever      Drama       PG-13   \n",
       "1  1996                     Independence Day  Adventure       PG-13   \n",
       "2  1997                         Men in Black  Adventure       PG-13   \n",
       "3  1998                              Titanic  Adventure       PG-13   \n",
       "4  1999  Star Wars Ep. I: The Phantom Menace  Adventure          PG   \n",
       "\n",
       "          DISTRIBUTOR TOTAL FOR YEAR TOTAL IN 2019 DOLLARS TICKETS SOLD  \n",
       "0        Warner Bros.   $184,031,112          $387,522,978  4,23,06,002  \n",
       "1    20th Century Fox   $306,169,255          $634,504,608  6,92,69,062  \n",
       "2       Sony Pictures   $250,650,052          $500,207,943  5,46,07,854  \n",
       "3  Paramount Pictures   $443,319,081          $865,842,808  9,45,24,324  \n",
       "4    20th Century Fox   $430,443,350          $776,153,749  8,47,32,942  "
      ]
     },
     "execution_count": 53,
     "metadata": {},
     "output_type": "execute_result"
    }
   ],
   "source": [
    "HighestGrossers.head()"
   ]
  },
  {
   "cell_type": "code",
   "execution_count": 54,
   "id": "91c79311",
   "metadata": {},
   "outputs": [
    {
     "name": "stderr",
     "output_type": "stream",
     "text": [
      "<ipython-input-54-4f4e6d0498ab>:2: FutureWarning: The default value of regex will change from True to False in a future version. In addition, single character regular expressions will*not* be treated as literal strings when regex=True.\n",
      "  HighestGrossers['TOTAL FOR YEAR'] = HighestGrossers['TOTAL FOR YEAR'].str.replace('$', '')\n"
     ]
    }
   ],
   "source": [
    "\n",
    "HighestGrossers['TOTAL FOR YEAR'] = HighestGrossers['TOTAL FOR YEAR'].str.replace(',', '')\n",
    "HighestGrossers['TOTAL FOR YEAR'] = HighestGrossers['TOTAL FOR YEAR'].str.replace('$', '')\n",
    "\n",
    "HighestGrossers[\"TOTAL FOR YEAR\"] = HighestGrossers[\"TOTAL FOR YEAR\"].astype(str).astype(int)"
   ]
  },
  {
   "cell_type": "code",
   "execution_count": 56,
   "id": "fae04e66",
   "metadata": {},
   "outputs": [
    {
     "data": {
      "text/html": [
       "<div>\n",
       "<style scoped>\n",
       "    .dataframe tbody tr th:only-of-type {\n",
       "        vertical-align: middle;\n",
       "    }\n",
       "\n",
       "    .dataframe tbody tr th {\n",
       "        vertical-align: top;\n",
       "    }\n",
       "\n",
       "    .dataframe thead th {\n",
       "        text-align: right;\n",
       "    }\n",
       "</style>\n",
       "<table border=\"1\" class=\"dataframe\">\n",
       "  <thead>\n",
       "    <tr style=\"text-align: right;\">\n",
       "      <th></th>\n",
       "      <th>YEAR</th>\n",
       "      <th>MOVIE</th>\n",
       "      <th>GENRE</th>\n",
       "      <th>MPAA RATING</th>\n",
       "      <th>DISTRIBUTOR</th>\n",
       "      <th>TOTAL FOR YEAR</th>\n",
       "      <th>TOTAL IN 2019 DOLLARS</th>\n",
       "      <th>TICKETS SOLD</th>\n",
       "    </tr>\n",
       "  </thead>\n",
       "  <tbody>\n",
       "    <tr>\n",
       "      <th>0</th>\n",
       "      <td>1995</td>\n",
       "      <td>Batman Forever</td>\n",
       "      <td>Drama</td>\n",
       "      <td>PG-13</td>\n",
       "      <td>Warner Bros.</td>\n",
       "      <td>184031112</td>\n",
       "      <td>$387,522,978</td>\n",
       "      <td>4,23,06,002</td>\n",
       "    </tr>\n",
       "    <tr>\n",
       "      <th>1</th>\n",
       "      <td>1996</td>\n",
       "      <td>Independence Day</td>\n",
       "      <td>Adventure</td>\n",
       "      <td>PG-13</td>\n",
       "      <td>20th Century Fox</td>\n",
       "      <td>306169255</td>\n",
       "      <td>$634,504,608</td>\n",
       "      <td>6,92,69,062</td>\n",
       "    </tr>\n",
       "    <tr>\n",
       "      <th>2</th>\n",
       "      <td>1997</td>\n",
       "      <td>Men in Black</td>\n",
       "      <td>Adventure</td>\n",
       "      <td>PG-13</td>\n",
       "      <td>Sony Pictures</td>\n",
       "      <td>250650052</td>\n",
       "      <td>$500,207,943</td>\n",
       "      <td>5,46,07,854</td>\n",
       "    </tr>\n",
       "    <tr>\n",
       "      <th>3</th>\n",
       "      <td>1998</td>\n",
       "      <td>Titanic</td>\n",
       "      <td>Adventure</td>\n",
       "      <td>PG-13</td>\n",
       "      <td>Paramount Pictures</td>\n",
       "      <td>443319081</td>\n",
       "      <td>$865,842,808</td>\n",
       "      <td>9,45,24,324</td>\n",
       "    </tr>\n",
       "    <tr>\n",
       "      <th>4</th>\n",
       "      <td>1999</td>\n",
       "      <td>Star Wars Ep. I: The Phantom Menace</td>\n",
       "      <td>Adventure</td>\n",
       "      <td>PG</td>\n",
       "      <td>20th Century Fox</td>\n",
       "      <td>430443350</td>\n",
       "      <td>$776,153,749</td>\n",
       "      <td>8,47,32,942</td>\n",
       "    </tr>\n",
       "  </tbody>\n",
       "</table>\n",
       "</div>"
      ],
      "text/plain": [
       "   YEAR                                MOVIE      GENRE MPAA RATING  \\\n",
       "0  1995                       Batman Forever      Drama       PG-13   \n",
       "1  1996                     Independence Day  Adventure       PG-13   \n",
       "2  1997                         Men in Black  Adventure       PG-13   \n",
       "3  1998                              Titanic  Adventure       PG-13   \n",
       "4  1999  Star Wars Ep. I: The Phantom Menace  Adventure          PG   \n",
       "\n",
       "          DISTRIBUTOR  TOTAL FOR YEAR TOTAL IN 2019 DOLLARS TICKETS SOLD  \n",
       "0        Warner Bros.       184031112          $387,522,978  4,23,06,002  \n",
       "1    20th Century Fox       306169255          $634,504,608  6,92,69,062  \n",
       "2       Sony Pictures       250650052          $500,207,943  5,46,07,854  \n",
       "3  Paramount Pictures       443319081          $865,842,808  9,45,24,324  \n",
       "4    20th Century Fox       430443350          $776,153,749  8,47,32,942  "
      ]
     },
     "execution_count": 56,
     "metadata": {},
     "output_type": "execute_result"
    }
   ],
   "source": [
    "HighestGrossers.head()"
   ]
  },
  {
   "cell_type": "code",
   "execution_count": 58,
   "id": "831e6553",
   "metadata": {},
   "outputs": [
    {
     "name": "stdout",
     "output_type": "stream",
     "text": [
      "<class 'pandas.core.frame.DataFrame'>\n",
      "RangeIndex: 27 entries, 0 to 26\n",
      "Data columns (total 8 columns):\n",
      " #   Column                 Non-Null Count  Dtype \n",
      "---  ------                 --------------  ----- \n",
      " 0   YEAR                   27 non-null     int64 \n",
      " 1   MOVIE                  27 non-null     object\n",
      " 2   GENRE                  24 non-null     object\n",
      " 3   MPAA RATING            27 non-null     object\n",
      " 4   DISTRIBUTOR            27 non-null     object\n",
      " 5   TOTAL FOR YEAR         27 non-null     int32 \n",
      " 6   TOTAL IN 2019 DOLLARS  27 non-null     object\n",
      " 7   TICKETS SOLD           27 non-null     object\n",
      "dtypes: int32(1), int64(1), object(6)\n",
      "memory usage: 1.7+ KB\n"
     ]
    }
   ],
   "source": [
    "HighestGrossers.info()"
   ]
  },
  {
   "cell_type": "code",
   "execution_count": 59,
   "id": "710191fd",
   "metadata": {},
   "outputs": [],
   "source": [
    "df1 = pd.DataFrame(HighestGrossers, columns = ['MOVIE','TOTAL FOR YEAR'])\n",
    "df1.sort_values(by=['TOTAL FOR YEAR'], ascending = False,inplace=True)"
   ]
  },
  {
   "cell_type": "markdown",
   "id": "b893921a",
   "metadata": {},
   "source": [
    "# **Top 10 Movies of all Time by Total earnings.**\n"
   ]
  },
  {
   "cell_type": "code",
   "execution_count": 67,
   "id": "10acb4fe",
   "metadata": {},
   "outputs": [
    {
     "data": {
      "image/png": "[encoded data removed]",
      "text/plain": [
       "<Figure size 432x288 with 1 Axes>"
      ]
     },
     "metadata": {},
     "output_type": "display_data"
    }
   ],
   "source": [
    "plt.pie(df1['TOTAL FOR YEAR'][0:10],labels = df1['MOVIE'][0:10],autopct='%1.1f%%',explode = (0.05,0.05, 0.05,0.05,0.05,0.05,0.05,0.05,0.05,0.05),radius=3,shadow=True)\n",
    "\n",
    "plt.show()"
   ]
  },
  {
   "cell_type": "code",
   "execution_count": 70,
   "id": "8a038556",
   "metadata": {},
   "outputs": [
    {
     "data": {
      "text/html": [
       "<div>\n",
       "<style scoped>\n",
       "    .dataframe tbody tr th:only-of-type {\n",
       "        vertical-align: middle;\n",
       "    }\n",
       "\n",
       "    .dataframe tbody tr th {\n",
       "        vertical-align: top;\n",
       "    }\n",
       "\n",
       "    .dataframe thead th {\n",
       "        text-align: right;\n",
       "    }\n",
       "</style>\n",
       "<table border=\"1\" class=\"dataframe\">\n",
       "  <thead>\n",
       "    <tr style=\"text-align: right;\">\n",
       "      <th></th>\n",
       "      <th>RANK</th>\n",
       "      <th>GENRES</th>\n",
       "      <th>MOVIES</th>\n",
       "      <th>TOTAL GROSS</th>\n",
       "      <th>AVERAGE GROSS</th>\n",
       "      <th>MARKET SHARE</th>\n",
       "    </tr>\n",
       "  </thead>\n",
       "  <tbody>\n",
       "    <tr>\n",
       "      <th>0</th>\n",
       "      <td>1</td>\n",
       "      <td>Adventure</td>\n",
       "      <td>1,102</td>\n",
       "      <td>$64,529,536,530</td>\n",
       "      <td>$58,556,748</td>\n",
       "      <td>27.14%</td>\n",
       "    </tr>\n",
       "    <tr>\n",
       "      <th>1</th>\n",
       "      <td>2</td>\n",
       "      <td>Action</td>\n",
       "      <td>1,098</td>\n",
       "      <td>$49,339,974,493</td>\n",
       "      <td>$44,936,224</td>\n",
       "      <td>20.75%</td>\n",
       "    </tr>\n",
       "    <tr>\n",
       "      <th>2</th>\n",
       "      <td>3</td>\n",
       "      <td>Drama</td>\n",
       "      <td>5,479</td>\n",
       "      <td>$35,586,177,269</td>\n",
       "      <td>$6,495,013</td>\n",
       "      <td>14.97%</td>\n",
       "    </tr>\n",
       "    <tr>\n",
       "      <th>3</th>\n",
       "      <td>4</td>\n",
       "      <td>Comedy</td>\n",
       "      <td>2,418</td>\n",
       "      <td>$33,687,992,318</td>\n",
       "      <td>$13,932,172</td>\n",
       "      <td>14.17%</td>\n",
       "    </tr>\n",
       "    <tr>\n",
       "      <th>4</th>\n",
       "      <td>5</td>\n",
       "      <td>Thriller/Suspense</td>\n",
       "      <td>1,186</td>\n",
       "      <td>$19,810,201,102</td>\n",
       "      <td>$16,703,374</td>\n",
       "      <td>8.33%</td>\n",
       "    </tr>\n",
       "  </tbody>\n",
       "</table>\n",
       "</div>"
      ],
      "text/plain": [
       "   RANK             GENRES MOVIES      TOTAL GROSS AVERAGE GROSS MARKET SHARE\n",
       "0     1          Adventure  1,102  $64,529,536,530   $58,556,748       27.14%\n",
       "1     2             Action  1,098  $49,339,974,493   $44,936,224       20.75%\n",
       "2     3              Drama  5,479  $35,586,177,269    $6,495,013       14.97%\n",
       "3     4             Comedy  2,418  $33,687,992,318   $13,932,172       14.17%\n",
       "4     5  Thriller/Suspense  1,186  $19,810,201,102   $16,703,374        8.33%"
      ]
     },
     "execution_count": 70,
     "metadata": {},
     "output_type": "execute_result"
    }
   ],
   "source": [
    "TopGenres.head()"
   ]
  },
  {
   "cell_type": "code",
   "execution_count": 73,
   "id": "b421cead",
   "metadata": {},
   "outputs": [],
   "source": [
    "TopGenres['TOTAL GROSS'] = TopGenres['TOTAL GROSS'].replace(',', '')\n",
    "TopGenres['TOTAL GROSS'] = TopGenres['TOTAL GROSS'].replace('$', '')\n"
   ]
  },
  {
   "cell_type": "code",
   "execution_count": 74,
   "id": "a699d806",
   "metadata": {},
   "outputs": [],
   "source": [
    "TopGenres = TopGenres.astype({\"TOTAL GROSS\":'int64'})\n"
   ]
  },
  {
   "cell_type": "code",
   "execution_count": 75,
   "id": "b77a5a0e",
   "metadata": {},
   "outputs": [
    {
     "name": "stdout",
     "output_type": "stream",
     "text": [
      "<class 'pandas.core.frame.DataFrame'>\n",
      "RangeIndex: 10 entries, 0 to 9\n",
      "Data columns (total 6 columns):\n",
      " #   Column         Non-Null Count  Dtype \n",
      "---  ------         --------------  ----- \n",
      " 0   RANK           10 non-null     int64 \n",
      " 1   GENRES         10 non-null     object\n",
      " 2   MOVIES         10 non-null     object\n",
      " 3   TOTAL GROSS    10 non-null     int64 \n",
      " 4   AVERAGE GROSS  10 non-null     object\n",
      " 5   MARKET SHARE   10 non-null     object\n",
      "dtypes: int64(2), object(4)\n",
      "memory usage: 608.0+ bytes\n"
     ]
    }
   ],
   "source": [
    "TopGenres.info()"
   ]
  },
  {
   "cell_type": "code",
   "execution_count": 76,
   "id": "002e9988",
   "metadata": {},
   "outputs": [
    {
     "data": {
      "text/plain": [
       "Text(0.5, 1.0, 'Popular Genres')"
      ]
     },
     "execution_count": 76,
     "metadata": {},
     "output_type": "execute_result"
    },
    {
     "data": {
      "image/png": "[encoded data removed]",
      "text/plain": [
       "<Figure size 1296x432 with 1 Axes>"
      ]
     },
     "metadata": {
      "needs_background": "light"
     },
     "output_type": "display_data"
    }
   ],
   "source": [
    "ax = sns.catplot(y=\"TOTAL GROSS\", x=\"GENRES\", kind=\"bar\", data=TopGenres, height=6, aspect=3)\n",
    "plt.ylabel(\"TOTAL GROSS \")\n",
    "plt.title(\"Popular Genres\")\n"
   ]
  },
  {
   "cell_type": "code",
   "execution_count": null,
   "id": "ac00eeab",
   "metadata": {},
   "outputs": [],
   "source": []
  }
 ],
 "metadata": {
  "kernelspec": {
   "display_name": "Python 3",
   "language": "python",
   "name": "python3"
  },
  "language_info": {
   "codemirror_mode": {
    "name": "ipython",
    "version": 3
   },
   "file_extension": ".py",
   "mimetype": "text/x-python",
   "name": "python",
   "nbconvert_exporter": "python",
   "pygments_lexer": "ipython3",
   "version": "3.8.8"
  }
 },
 "nbformat": 4,
 "nbformat_minor": 5
}
